{
 "cells": [
  {
   "cell_type": "markdown",
   "id": "aaf4cf96",
   "metadata": {},
   "source": [
    "# Jupyter Notebooks"
   ]
  },
  {
   "cell_type": "markdown",
   "id": "437b28dd",
   "metadata": {},
   "source": [
    "In this section, you will learn about Jupyter Notebooks, create one and then edit Markdown and code cells to create a document containing a sample analysis of the dataset on <a href=\"https://ourworldindata.org/grapher/self-reported-trust-attitudes\" target=\"_blank\" class=\"external-link\">Self-reported trust attitudes</a>."
   ]
  },
  {
   "cell_type": "markdown",
   "id": "a8584bad",
   "metadata": {},
   "source": [
    "<a href=\"https://docs.jupyter.org/en/latest/\" target=\"_blank\" class=\"external-link\">Jupyter Notebooks</a> allow you to mix text written in Markdown with code and its output.\n",
    "\n",
    "Notebooks are a series of cells and each cell can either be set to be a Markdown cell or a code cell."
   ]
  },
  {
   "cell_type": "markdown",
   "id": "6e2e388d",
   "metadata": {},
   "source": [
    "Multiple Markdown cells one after the other look like one continuous text. We recommend to not write one lone Markdown cell but to split your text into multiple cells.\n"
   ]
  },
  {
   "cell_type": "markdown",
   "id": "6e89ece3",
   "metadata": {},
   "source": [
    "You can add cells in between other existing cells or at the end of the notebook. You can also move cells around."
   ]
  },
  {
   "cell_type": "markdown",
   "id": "70a50a7c",
   "metadata": {},
   "source": [
    "## (Python) Code Cells"
   ]
  },
  {
   "cell_type": "markdown",
   "id": "e743b00e",
   "metadata": {},
   "source": [
    "A Notebook can contain code cells with code in one programming language. You cannot mix code in different languages in one Notebook. The programming language is defined in the kernel settings of the Notebook."
   ]
  },
  {
   "cell_type": "markdown",
   "id": "3274333f",
   "metadata": {},
   "source": [
    "The following cell is a code cell: "
   ]
  },
  {
   "cell_type": "code",
   "execution_count": 1,
   "id": "f0f6881e",
   "metadata": {},
   "outputs": [
    {
     "name": "stdout",
     "output_type": "stream",
     "text": [
      "4\n"
     ]
    }
   ],
   "source": [
    "print(2+2)"
   ]
  },
  {
   "cell_type": "markdown",
   "id": "ba119c7d",
   "metadata": {},
   "source": [
    "You can see that it contains one line of Python code. The code also has been executed and the output of the cell is shown below.\n",
    "\n",
    "The value of the last expression of a code cell is automatically displayed."
   ]
  },
  {
   "cell_type": "code",
   "execution_count": 2,
   "id": "4b4c66b2",
   "metadata": {},
   "outputs": [
    {
     "data": {
      "text/plain": [
       "4"
      ]
     },
     "execution_count": 2,
     "metadata": {},
     "output_type": "execute_result"
    }
   ],
   "source": [
    "2+2"
   ]
  },
  {
   "cell_type": "markdown",
   "id": "ec7a85ce",
   "metadata": {},
   "source": [
    "Code cells also have metadata which can be used to disable the execution, hide or remove the output or the code cell itself. In this workshop, we will not use these features.\n"
   ]
  },
  {
   "cell_type": "markdown",
   "id": "ed315ba8",
   "metadata": {},
   "source": [
    "## Code Cells vs. Markdown Cells with Code Blocks\n",
    "Code cells are different from Markdown cells with code blocks. The latter is just a text representation of code, while code cells can be executed and their output is shown below the cell.\n",
    "\n",
    "Compare the following two cells:"
   ]
  },
  {
   "cell_type": "code",
   "execution_count": 6,
   "id": "c06394de",
   "metadata": {},
   "outputs": [
    {
     "name": "stdout",
     "output_type": "stream",
     "text": [
      "4\n"
     ]
    }
   ],
   "source": [
    "# Code cell\n",
    "print(2+2)"
   ]
  },
  {
   "cell_type": "markdown",
   "id": "b2753671",
   "metadata": {},
   "source": [
    "Markdown cell with code block\n",
    "```python\n",
    "print(2+2)\n",
    "```"
   ]
  },
  {
   "cell_type": "markdown",
   "id": "3da5ce02",
   "metadata": {},
   "source": [
    "## Markdown Markup in Markdown Cells\n",
    "You can use all the same Markdown elements as you would use in a plain Markdown file. Revisit the subsection {ref}`markdown:markup` as a refresher."
   ]
  },
  {
   "cell_type": "markdown",
   "id": "ccb83f2c",
   "metadata": {},
   "source": [
    "## Editing Jupyter Notebooks in GitHub\n",
    "Jupyter Notebooks at their core are JSON files. The GitHub editor we used previously does only allow the raw editing of the JSON and not the content-aware Notebook representation.\n",
    "\n",
    "There are at least five ways to edit the Notebook:\n",
    "1. **Raw editing**: If you are comfortable with the JSON format, you could edit the Notebook as you edited the Markdown files previously. This is _not_ recommended.\n",
    "2. **GitHub Codespaces**: If you have access to GitHub Codespaces, you can open the Notebook in a Codespace and edit it there. This opens a Visual Studio Code-like editor in the browser. The startup is relatively slow, but you don't need any \n",
    "3. **Google Colab**: If you have a Google account, you can upload the Notebook to Google Colab, edit it there, and then download it, upload it to GitHub and commit it.\n",
    "4. **Binder / Jupyter Hub**: You can open your OER repository in <a href=\"https://mybinder.org/\" target=\"_blank\" class=\"external-link\">Binder</a> or a Jupyter Hub you have access to. There you can edit the Notebook and then download it, upload it to GitHub and commit it.\n",
    "4. **locally installed Jupyter Notebook App / Juypter Lab / Visual Studio Code**: If you have a Notebook compatible editor installed on your computer, you can open the Notebook in there and edit it. Then upload the edited Notebook to GitHub and commit it.\n",
    "5. **Git workflow**: If you not only have a local Notebook editor but also are familiar with Git, you can obviously clone the repository and work locally."
   ]
  },
  {
   "cell_type": "markdown",
   "id": "ea17fd79",
   "metadata": {},
   "source": [
    "**For this workshop, we will use the Option of GitHub Codespaces.**"
   ]
  },
  {
   "cell_type": "markdown",
   "id": "5e116a9e",
   "metadata": {},
   "source": [
    "### Create a New Codespace\n",
    "```{figure} /assets/content/codespace_create_new.png\n",
    "---\n",
    "name: fig-new-codespace\n",
    "width: 100%\n",
    "align: center\n",
    "---\n",
    "Creating a new Codespace for your OER repository.\n",
    "```\n",
    "To create a new Codespace, click on the green Butten \"<> Code\" in the top right corner of the repository page. Then click on the tab \"Codespaces\" and then the plus or \"Create codespace on main\". This will create a new Codespace for your OER repository.\n",
    "\n",
    "The creation of the Codespace will take a few minutes."
   ]
  },
  {
   "cell_type": "markdown",
   "id": "abce34c5",
   "metadata": {},
   "source": [
    "## Exercise: Create a new Notebook\n",
    "\n",
    "You can either copy the empty Notebook `assets/template_notebook.ipynb` to the folder `trust` or you can create a new Notebook via the Codespace's interface.\n",
    "\n",
    "At the top of the page you can see a search bar (see {numref}`fig-pallet`).\n",
    "```{figure} /assets/content/codespace_pallet.png\n",
    "---\n",
    "name: fig-pallet\n",
    "width: 100%\n",
    "align: center\n",
    "---\n",
    "The search bar in the Codespace interface.\n",
    "```\n"
   ]
  },
  {
   "cell_type": "markdown",
   "id": "d7c0e939",
   "metadata": {},
   "source": [
    "In this search bar, you can search for files. You can also enter \"command mode\" by first typing a greather-than sign `>` and then searching for the command you want to use. As shown in {numref}`fig-pallet-command`, you can search for `> jupyter` to find the command to create a new Jupyter Notebook.\n",
    "\n",
    "```{figure} /assets/content/codespace_pallet_command.png\n",
    "---\n",
    "name: fig-pallet-command\n",
    "width: 100%\n",
    "align: center\n",
    "---\n",
    "The pallet in command mode<br>\n",
    "searching for `> jupyter`.\n",
    "```"
   ]
  },
  {
   "cell_type": "markdown",
   "id": "fd5bc35f",
   "metadata": {},
   "source": [
    "This creates a new and unsaved Notebook (see {numref}`fig-untitled-file`).\n",
    "```{figure} /assets/content/codespace_untitled_file.png\n",
    "---\n",
    "name: fig-untitled-file\n",
    "width: 50%\n",
    "align: center\n",
    "---\n",
    "New, unsaved Notebook as shown in tab bar.\n",
    "```"
   ]
  },
  {
   "cell_type": "markdown",
   "id": "8e72b2e6",
   "metadata": {},
   "source": [
    "````{admonition} Exercise: Add a title and save the notebook file\n",
    ":class: exercise\n",
    "\n",
    "1. Add a Markdown cell at the top of the Notebook and add a title to it.\n",
    "2. Save the Notebook file with a meaningful name, e.g. `analyzing_data_on_trust.ipynb`.\n",
    "\n",
    "```{admonition} Solution\n",
    ":class: solution, dropdown\n",
    "\n",
    "1. If you move your mouse between two cells, you can find buttons to add a new cell. Add a Markdown cell above the first cell. Add a title to the cell, e.g. `Analyzing Data on Trust`.\n",
    "    \n",
    "    ![+ Markdown](/assets/content/notebook_add_markdown_cell.png)\n",
    "\n",
    "2. Either use the keyboard shortcut or the menu (see {numref}`fig-codespace-menu`) to save the Notebook file. Choose a meaningful name, e.g. `analyzing_data_on_trust.ipynb` and don't forget to specify the correct path. The file should be situated in the folder `trust`.\n",
    "    ```{figure} /assets/content/codespace_menu.png\n",
    "    ---\n",
    "    name: fig-codespace-menu\n",
    "    width: 100%\n",
    "    align: center\n",
    "    ---\n",
    "    The menu in the Codespace interface.\n",
    "    ```\n",
    "\n",
    "```\n",
    "\n",
    "````"
   ]
  },
  {
   "cell_type": "markdown",
   "id": "bca2b9a1",
   "metadata": {},
   "source": [
    "## Exercise: Using Python to analyze the data on trust\n",
    "\n",
    "In the following exercises, you will author a sample analysis of the dataset on <a href=\"https://ourworldindata.org/grapher/self-reported-trust-attitudes\" target=\"_blank\" class=\"external-link\">Self-reported trust attitudes</a> using Python code in the Notebook."
   ]
  },
  {
   "cell_type": "markdown",
   "id": "72b0bef6",
   "metadata": {},
   "source": [
    "We will use a pre-processed version of the dataset, which you can download here in its latest version: <a href=\"https://github.com/quadriga-dk/OER-Workshop/blob/main/assets/cleaned_trust_data.csv\" target=\"_blank\" class=\"external-link\">cleaned_trust_data.csv</a>."
   ]
  },
  {
   "cell_type": "markdown",
   "id": "15d3f247",
   "metadata": {},
   "source": [
    "````{admonition} Exercise: Loading the dataset\n",
    ":class: exercise\n",
    "\n",
    "a\n",
    "\n",
    "\n",
    "```{admonition} Solution\n",
    ":class: solution, dropdown\n",
    "a\n",
    "```\n",
    "\n",
    "````\n"
   ]
  },
  {
   "cell_type": "markdown",
   "id": "9ca080d8",
   "metadata": {},
   "source": [
    "````{admonition} Exercise: Calculating statistical measures\n",
    ":class: exercise\n",
    "\n",
    "a\n",
    "\n",
    "```{admonition} Solution\n",
    ":class: solution, dropdown\n",
    "a\n",
    "```\n",
    "\n",
    "````"
   ]
  },
  {
   "cell_type": "markdown",
   "id": "8edcd18c",
   "metadata": {},
   "source": [
    "````{admonition} Exercise: Creating a visualization\n",
    ":class: exercise\n",
    "\n",
    "a\n",
    "\n",
    "```{admonition} Solution\n",
    ":class: solution, dropdown\n",
    "a\n",
    "```\n",
    "\n",
    "````"
   ]
  },
  {
   "cell_type": "markdown",
   "id": "0cb10f56",
   "metadata": {},
   "source": []
  }
 ],
 "metadata": {
  "kernelspec": {
   "display_name": ".venv",
   "language": "python",
   "name": "python3"
  },
  "language_info": {
   "codemirror_mode": {
    "name": "ipython",
    "version": 3
   },
   "file_extension": ".py",
   "mimetype": "text/x-python",
   "name": "python",
   "nbconvert_exporter": "python",
   "pygments_lexer": "ipython3",
   "version": "3.13.5"
  }
 },
 "nbformat": 4,
 "nbformat_minor": 5
}
