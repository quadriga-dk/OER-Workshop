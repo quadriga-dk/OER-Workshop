{
 "cells": [
  {
   "cell_type": "markdown",
   "id": "248c9316",
   "metadata": {},
   "source": [
    "# Jupyter Quiz"
   ]
  },
  {
   "cell_type": "code",
   "execution_count": null,
   "id": "a1d3f67d",
   "metadata": {},
   "outputs": [],
   "source": []
  }
 ],
 "metadata": {
  "language_info": {
   "name": "python"
  }
 },
 "nbformat": 4,
 "nbformat_minor": 5
}
