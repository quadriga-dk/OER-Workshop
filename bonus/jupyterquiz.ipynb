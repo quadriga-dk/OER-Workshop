{
 "cells": [
  {
   "cell_type": "markdown",
   "id": "248c9316",
   "metadata": {},
   "source": [
    "# Jupyter Quiz"
   ]
  },
  {
   "cell_type": "markdown",
   "id": "a1d3f67d",
   "metadata": {},
   "source": [
    "```{admonition} Exercise: Create a quiz\n",
    ":class: exercise\n",
    "\n",
    "Following the directions on <a href=\"https://quadriga-dk.github.io/Book_Template/assessment/umsetzung/jupyterquiz.html\" target=\"_blank\" class=\"external-link\">Interaktive Quizze mit JupyterQuiz</a>, create a quiz with at least one question containing at least one correct and at least one false answer including feedback.\n",
    "\n",
    "```"
   ]
  }
 ],
 "metadata": {
  "language_info": {
   "name": "python"
  }
 },
 "nbformat": 4,
 "nbformat_minor": 5
}
